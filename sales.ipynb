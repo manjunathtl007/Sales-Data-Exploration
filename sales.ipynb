{
 "cells": [
  {
   "cell_type": "markdown",
   "id": "f208dbc9",
   "metadata": {
    "deletable": false,
    "editable": false,
    "run_control": {
     "frozen": true
    }
   },
   "source": [
    "## Sales Data Exploration.\n",
    "In the realm of sales analysis, where numbers and data are the guiding stars, a story of commerce unfolds. It's a narrative that goes beyond the mere exchange of products and services; it's a journey into the heart of businesses, revealing the secrets of success and the pathways to growth. This story revolves around a MySQL database, a digital ledger that holds the records of orders from prominent companies such as Walmart, Microsoft, and more. Within this digital realm, we discover the pulse of sales, the best-sellers, the most significant customers, and the dynamic sales growth rate.\n",
    "\n",
    "At the heart of this data-driven exploration, the data virtuoso takes the stage, armed with cutting-edge tools and techniques for analysis. The mission is to transform raw data into actionable insights, shedding light on the products that shine brightest in the marketplace. It's about identifying the best-sellers that resonate with consumers, offering businesses a roadmap for success.\n",
    "\n",
    "But it's not just about products; it's also about customers. The database reveals the biggest customers, the driving force behind revenue generation. The data virtuoso meticulously scrutinizes the records, recognizing the names that leave an indelible mark on the company's ledger. They paint a picture of customer loyalty and engagement.\n",
    "\n",
    "As the exploration delves deeper into the database, it's not just data analysis; it's storytelling. The sales growth rate becomes a compelling narrative, a journey of businesses navigating the ever-evolving currents of commerce. With expertise and precision, the data virtuoso tracks this growth, offering businesses a vision of their future.\n",
    "\n",
    "In collaboration with the project team, captivating data visualizations are crafted, bringing these insights to life. Graphs and charts become windows into the world of commerce, offering a visual narrative that complements the depth of data. In the world of sales analysis, the data virtuoso may remain behind the scenes, but their dedication to transforming data into actionable insights makes every transaction extraordinary. They are the unsung heroes of commerce, driving businesses forward and contributing to the ongoing saga of economic growth and achievement."
   ]
  },
  {
   "cell_type": "markdown",
   "id": "c689a1bd",
   "metadata": {},
   "source": [
    "## Module 1\n",
    "### Task 1: Data Download, Import, and Database Connection."
   ]
  },
  {
   "cell_type": "code",
   "execution_count": null,
   "id": "81620c43",
   "metadata": {},
   "outputs": [],
   "source": [
    "%load_ext sql\n",
    "\n",
    "%sql mysql+pymysql://root:@localhost/sales"
   ]
  },
  {
   "cell_type": "markdown",
   "id": "21cefe6f",
   "metadata": {
    "deletable": false,
    "editable": false,
    "run_control": {
     "frozen": true
    }
   },
   "source": [
    "## Module 2\n",
    "### Task 1: Mapping the Commerce of the Midwest.\n",
    "Within the database's intricate web, a query unfolds, revealing the tapestry of the \"Midwest\" region. As the data virtuoso, we unearth the connections, with region names, sales reps, and account names forming the threads of this narrative. Through the meticulous SQL query, we bridge the gaps, forging links from region to representative to account, all within the expansive Midwest. And as the results emerge, ordered alphabetically by account name, the story of commerce in this region comes to life, showcasing the ordered harmony of business relationships in the heart of the Midwest."
   ]
  },
  {
   "cell_type": "code",
   "execution_count": null,
   "id": "6d86c567",
   "metadata": {},
   "outputs": [],
   "source": [
    "%%sql\n",
    "SELECT r.name as Region, sr.name as Rep_name, ac.name as account_name \n",
    "FROM region r JOIN sales_reps sr ON r.id=sr.region_id \n",
    "JOIN accounts ac ON sr.id=ac.sales_rep_id WHERE r.name='Midwest' ORDER BY ac.name ASC"
   ]
  },
  {
   "cell_type": "markdown",
   "id": "8218c733",
   "metadata": {
    "deletable": false,
    "editable": false,
    "run_control": {
     "frozen": true
    }
   },
   "source": [
    "### Task 2: Sifting for Gold in the Midwest.\n",
    "In the world of Midwest commerce, a query has uncovered a unique facet. By isolating sales representatives with names starting with 'S,' we've unveiled a distinct narrative. The results, elegantly ordered by account name, shed light on the intricate relationships forged by this 'S' factor. It's a story of selective synergy, offering insights into how these representatives connect with various accounts. In the heartland of the Midwest, the data virtuoso has unveiled a fascinating story where a single letter becomes a key to understanding the complex tapestry of sales."
   ]
  },
  {
   "cell_type": "code",
   "execution_count": null,
   "id": "be86d26d",
   "metadata": {},
   "outputs": [],
   "source": [
    "%%sql\n",
    "SELECT r.name as Region, sr.name as Rep_name, ac.name as account_name \n",
    "FROM region r JOIN sales_reps sr ON r.id=sr.region_id \n",
    "JOIN accounts ac ON sr.id=ac.sales_rep_id \n",
    "WHERE r.name='Midwest' AND sr.name LIKE 'S%' ORDER BY ac.name ASC"
   ]
  },
  {
   "cell_type": "markdown",
   "id": "b14c1466",
   "metadata": {
    "deletable": false,
    "editable": false,
    "run_control": {
     "frozen": true
    }
   },
   "source": [
    "### Task 3: Kaleidoscope of Sales.\n",
    "In the vast data landscape of Midwest commerce, a unique perspective unfolds. This SQL query spotlights sales representatives with 'K' in their names, revealing the intricate ties between regions, reps, and accounts. The results, thoughtfully sorted by account name, unveil the influence of the 'K' factor. It's a tale of selective synergy, providing insights into the special connections these representatives have with a diverse range of accounts. This Midwest journey, driven by a single letter, offers a captivating snapshot of the complex web of business relationships that define the region."
   ]
  },
  {
   "cell_type": "code",
   "execution_count": null,
   "id": "bccbf7a6",
   "metadata": {},
   "outputs": [],
   "source": [
    "%%sql\n",
    "\n",
    "SELECT r.name as Region, sr.name as Rep_name, ac.name as account_name \n",
    "FROM region r JOIN sales_reps sr ON r.id=sr.region_id \n",
    "JOIN accounts ac ON sr.id=ac.sales_rep_id WHERE r.name='Midwest' AND sr.name LIKE '% K%' \n",
    "ORDER BY ac.name ASC"
   ]
  },
  {
   "cell_type": "markdown",
   "id": "74a1c0cb",
   "metadata": {
    "deletable": false,
    "editable": false,
    "run_control": {
     "frozen": true
    }
   },
   "source": [
    "### Task 4: Uncovering Value in Sales.\n",
    "Within the intricate sales data tapestry, an intriguing narrative unfolds. The SQL query dissects the connections between regions, accounts, and orders, focusing on those with a standard quantity exceeding 100. The query's results reveal the unit price calculated from the total amount and quantity, offering insights into the worth of each unit within these sales transactions. It's a story of value in commerce, underscoring the significance of each unit's pricing dynamics, inspiring businesses to embrace a deeper understanding of the true worth of their sales units."
   ]
  },
  {
   "cell_type": "code",
   "execution_count": null,
   "id": "5e9f30d9",
   "metadata": {},
   "outputs": [],
   "source": [
    "%%sql\n",
    "\n",
    "SELECT r.name AS region, ac.name AS account_name, o.total_amt_usd/(o.total + 0.01) AS unit_price \n",
    "FROM region r JOIN sales_reps sr ON r.id=sr.region_id \n",
    "JOIN accounts ac ON sr.id=ac.sales_rep_id JOIN orders o ON ac.id = o.account_id \n",
    "WHERE o.standard_qty > 100"
   ]
  },
  {
   "cell_type": "markdown",
   "id": "904bf5e9",
   "metadata": {
    "deletable": false,
    "editable": false,
    "run_control": {
     "frozen": true
    }
   },
   "source": [
    "### Task 5: The Art of Pricing.\n",
    "Within the expansive sales data landscape, a captivating narrative emerges. This SQL query intricately connects regions, accounts, and orders, with a specific focus on those with a standard quantity exceeding 100 and poster quantities surpassing 50. The results unveil a vital aspect: the unit price, diligently calculated and thoughtfully ordered in ascending fashion.\n",
    "\n",
    "This is a tale of pricing precision, shining a spotlight on the value of each unit within these complex transactions. It serves as a guide for businesses, helping them comprehend the intricate interplay between value and pricing complexity in the dynamic world of commerce. In this exploration, the data virtuoso plays a pivotal role, unearthing the insights that can shape prosperous decisions for businesses seeking to navigate the value-laden landscape of their sales."
   ]
  },
  {
   "cell_type": "code",
   "execution_count": null,
   "id": "1b3c1919",
   "metadata": {},
   "outputs": [],
   "source": [
    "%%sql\n",
    "\n",
    "SELECT r.name as region, ac.name as account_name, o.total_amt_usd/(o.total + 0.01) as unit_price \n",
    "FROM region r JOIN sales_reps sr ON r.id=sr.region_id \n",
    "JOIN accounts ac ON sr.id=ac.sales_rep_id JOIN orders o ON ac.id = o.account_id \n",
    "WHERE o.standard_qty > 100 AND o.poster_qty > 50 ORDER BY unit_price ASC"
   ]
  },
  {
   "cell_type": "markdown",
   "id": "94557027",
   "metadata": {
    "deletable": false,
    "editable": false,
    "run_control": {
     "frozen": true
    }
   },
   "source": [
    "### Task 6: Cracking the Sales Code.\n",
    "In the world of sales analysis, this query is a compass guiding us toward hidden treasures. By isolating orders with specific quantity criteria, we unearth valuable insights into pricing dynamics. The descending order of unit prices exposes products and accounts with the highest worth. This knowledge empowers businesses to optimize pricing strategies and enhance profitability. In a data-rich landscape, such queries are the key to deciphering the complex maze of commerce, shaping the path for smarter decisions in sales."
   ]
  },
  {
   "cell_type": "code",
   "execution_count": null,
   "id": "5681fa1f",
   "metadata": {},
   "outputs": [],
   "source": [
    "%%sql\n",
    "\n",
    "SELECT r.name as region, ac.name as account_name, o.total_amt_usd/(o.total + 0.01) as unit_price \n",
    "FROM region r JOIN sales_reps sr ON r.id=sr.region_id JOIN accounts ac ON sr.id=ac.sales_rep_id \n",
    "JOIN orders o ON ac.id = o.account_id WHERE o.standard_qty > 100 AND o.poster_qty > 50 \n",
    "ORDER BY unit_price DESC"
   ]
  },
  {
   "cell_type": "markdown",
   "id": "acfe8289",
   "metadata": {
    "deletable": false,
    "editable": false,
    "run_control": {
     "frozen": true
    }
   },
   "source": [
    "### Task 7: Efficiency through Precision.\n",
    "In the world of data analysis, concise queries like this serve a vital role. With a specific focus on orders surpassing defined quantities, this query uncovers the essence of sales - the unit price. Ordering it in descending fashion highlights the most valuable products and accounts, streamlining pricing strategies and profitability.\n",
    "\n",
    "The query's brevity is intentional, as it succinctly delivers precise, actionable insights. It allows businesses to efficiently navigate the intricate landscape of sales, saving time and resources. In a fast-paced environment, such succinct queries offer the tools needed for informed decision-making, unlocking the potential of sales data with minimal complexity."
   ]
  },
  {
   "cell_type": "code",
   "execution_count": null,
   "id": "da76cff1",
   "metadata": {},
   "outputs": [],
   "source": [
    "%%sql\n",
    "\n",
    "SELECT r.name as region, ac.name as account_name, o.total_amt_usd/(o.total + 0.01) as unit_price \n",
    "FROM region r JOIN sales_reps sr ON r.id=sr.region_id JOIN accounts ac ON sr.id=ac.sales_rep_id \n",
    "JOIN orders o ON ac.id = o.account_id WHERE o.standard_qty > 50 AND o.poster_qty > 25\n",
    "ORDER BY unit_price DESC"
   ]
  },
  {
   "cell_type": "markdown",
   "id": "4245f0b5",
   "metadata": {
    "deletable": false,
    "editable": false,
    "run_control": {
     "frozen": true
    }
   },
   "source": [
    "### Task 8: Efficiency in Action.\n",
    "By summarizing key sales figures for each account, this query provides a quick, actionable overview of business performance. Its brevity is designed to streamline data analysis, allowing decision-makers to efficiently uncover insights without unnecessary complexity.\n",
    "\n",
    "In the fast-paced business environment, time is of the essence, and succinct queries enable rapid decision-making. By focusing on essentials, they help businesses access valuable information in a way that's both time-efficient and results-oriented. This query, with its precision and brevity, exemplifies the power of efficient data analysis, shaping success and driving informed decisions."
   ]
  },
  {
   "cell_type": "code",
   "execution_count": null,
   "id": "6c15d6c5",
   "metadata": {},
   "outputs": [],
   "source": [
    "%%sql\n",
    "\n",
    "SELECT ac.name AS account_name, AVG(o.standard_amt_usd) AS avg_standard_amt_usd, AVG(o.gloss_amt_usd) AS avg_gloss_amt_usd, \n",
    "AVG(o.poster_amt_usd) AS avg_poster_amt_usd \n",
    "FROM accounts ac JOIN orders o ON ac.id=o.account_id \n",
    "GROUP BY ac.name"
   ]
  },
  {
   "cell_type": "markdown",
   "id": "942f3717",
   "metadata": {
    "deletable": false,
    "editable": false,
    "run_control": {
     "frozen": true
    }
   },
   "source": [
    "### Task 9: Streamlining Insights.\n",
    "By calculating and summarizing average sales amounts for various product types and generating a total, this query provides a swift, yet comprehensive view of account performance. Its brevity is intentional, designed to streamline data analysis while offering quick access to actionable insights.\n",
    "\n",
    "In a rapidly evolving business landscape, time efficiency is paramount. Such succinct queries empower decision-makers to swiftly access valuable information and make informed choices without delving into complexity. This query, with its precision and efficiency, exemplifies the power of streamlined data analysis, shaping success and driving effective decisions in a fast-paced environment."
   ]
  },
  {
   "cell_type": "code",
   "execution_count": null,
   "id": "178d63b5",
   "metadata": {},
   "outputs": [],
   "source": [
    "%%sql\n",
    "\n",
    "SELECT ac.name AS account_name, AVG(o.standard_amt_usd) AS avg_standard_amt_usd, AVG(o.gloss_amt_usd) AS avg_gloss_amt_usd, \n",
    "AVG(o.poster_amt_usd) AS avg_poster_amt_usd, \n",
    "AVG(o.standard_amt_usd)+AVG(o.gloss_amt_usd)+AVG(o.poster_amt_usd) as total \n",
    "FROM accounts ac JOIN orders o ON ac.id=o.account_id  \n",
    "GROUP BY ac.name ORDER BY total DESC"
   ]
  },
  {
   "cell_type": "markdown",
   "id": "577eccca",
   "metadata": {
    "deletable": false,
    "editable": false,
    "run_control": {
     "frozen": true
    }
   },
   "source": [
    "### Task 10: Efficiency in Data Insight.\n",
    "By counting occurrences of channels associated with sales representatives and sorting them in descending order, this query rapidly reveals the most frequent engagement channels. Its brevity is a strategic choice, aimed at swiftly delivering actionable insights without unnecessary complexity.\n",
    "\n",
    "In a dynamic business landscape, time efficiency is a critical factor. Such succinct queries empower decision-makers to quickly access valuable information, facilitating informed decisions without cumbersome data analysis. This query, with its precision and brevity, exemplifies the power of streamlined data analysis, optimizing engagement strategies and driving results in a fast-paced environment."
   ]
  },
  {
   "cell_type": "code",
   "execution_count": null,
   "id": "dad9569e",
   "metadata": {},
   "outputs": [],
   "source": [
    "%%sql\n",
    "\n",
    "SELECT sr.name AS sales_rep_name, we.channel AS channel, count(channel) AS number_of_occurrences \n",
    "FROM web_events we JOIN accounts ac ON we.account_id=ac.id JOIN sales_reps sr ON ac.sales_rep_id=sr.id \n",
    "GROUP BY sr.name, we.channel ORDER BY number_of_occurrences DESC"
   ]
  },
  {
   "cell_type": "markdown",
   "id": "6bf5d8a0",
   "metadata": {
    "deletable": false,
    "editable": false,
    "run_control": {
     "frozen": true
    }
   },
   "source": [
    "### Task 11: Swift Insights.\n",
    "By extracting and summing annual sales totals and arranging them in ascending order, this query provides rapid access to key revenue trends. Its brevity is a deliberate choice, crafted for efficient data analysis that delivers quick, actionable insights.\n",
    "\n",
    "In the fast-paced business environment, time efficiency is a precious asset. Such succinct queries empower decision-makers to promptly uncover valuable information and make informed choices without getting lost in complexity. This query, with its precision and brevity, embodies the power of streamlined data analysis, shaping a more informed approach to business decision-making."
   ]
  },
  {
   "cell_type": "code",
   "execution_count": null,
   "id": "2cb93f64",
   "metadata": {},
   "outputs": [],
   "source": [
    "%%sql\n",
    "\n",
    "SELECT EXTRACT(YEAR FROM occurred_at) AS year, SUM(total_amt_usd) AS total_usd \n",
    "FROM orders GROUP BY year ORDER BY total_usd ASC"
   ]
  },
  {
   "cell_type": "markdown",
   "id": "f273bab0",
   "metadata": {
    "deletable": false,
    "editable": false,
    "run_control": {
     "frozen": true
    }
   },
   "source": [
    "### Task 12: Yearly Revenue Insights.\n",
    "By extracting and summing monthly sales totals for specific years and arranging the results by year, it swiftly reveals revenue patterns. Its brevity is strategic, enabling rapid data analysis for quick access to actionable insights.\n",
    "\n",
    "In the fast-paced business world, time is of the essence. Such succinct queries empower decision-makers to promptly uncover valuable information, streamlining the path to informed choices without unnecessary complexity. This query, with its precision and brevity, showcases the value of streamlined data analysis, facilitating a more agile approach to making business decisions."
   ]
  },
  {
   "cell_type": "code",
   "execution_count": null,
   "id": "433e8b08",
   "metadata": {},
   "outputs": [],
   "source": [
    "%%sql\n",
    "\n",
    "SELECT EXTRACT(YEAR FROM occurred_at) AS year, EXTRACT(MONTH FROM occurred_at) AS month, \n",
    "SUM(total_amt_usd) AS total_usd FROM orders \n",
    "WHERE EXTRACT(YEAR FROM occurred_at) = 2013 OR EXTRACT(YEAR FROM occurred_at)= 2017 \n",
    "GROUP BY year, month ORDER BY year"
   ]
  },
  {
   "cell_type": "markdown",
   "id": "770999a7",
   "metadata": {
    "deletable": false,
    "editable": false,
    "run_control": {
     "frozen": true
    }
   },
   "source": [
    "### Task 13: Unveiling Daily Sales.\n",
    "This compact query serves a specific purpose. It extracts and sums daily sales totals for the year 2017, providing insights into daily revenue trends. Its brevity is intentional, designed for efficient data analysis that offers quick access to granular insights.\n",
    "\n",
    "In a fast-moving business landscape, time efficiency is invaluable. Such concise queries empower decision-makers to swiftly uncover detailed information and make informed choices without wading through unnecessary complexity. This query, with its precision and brevity, exemplifies the power of streamlined data analysis, revealing daily sales nuances and enabling agile decision-making."
   ]
  },
  {
   "cell_type": "code",
   "execution_count": null,
   "id": "8c1c6607",
   "metadata": {},
   "outputs": [],
   "source": [
    "%%sql\n",
    "\n",
    "\n",
    "SELECT EXTRACT(YEAR FROM occurred_at) AS year, EXTRACT(MONTH FROM occurred_at) AS month,  \n",
    "EXTRACT(DAY FROM occurred_at) AS day, SUM(total_amt_usd) AS total_usd \n",
    "FROM orders WHERE EXTRACT(YEAR FROM occurred_at)=2017 GROUP BY year, month, day \n",
    "ORDER BY total_usd ASC"
   ]
  },
  {
   "cell_type": "markdown",
   "id": "ad374995",
   "metadata": {
    "deletable": false,
    "editable": false,
    "run_control": {
     "frozen": true
    }
   },
   "source": [
    "### Task 14: Unlocking New Year's Data.\n",
    "This concise query has a clear purpose in the world of data analysis. It extracts and summarizes daily sales totals specifically for January 1st, offering insights into the start of each year. Its brevity is deliberate, designed to efficiently uncover granular insights without unnecessary complexity.\n",
    "\n",
    "In a dynamic business environment, time efficiency is essential. Such succinct queries empower decision-makers to rapidly access precise information, aiding informed choices without cumbersome data analysis. This query, with its precision and brevity, showcases the power of streamlined data analysis, uncovering specific details for agile decision-making in the fast-paced business landscape."
   ]
  },
  {
   "cell_type": "code",
   "execution_count": null,
   "id": "da1d9800",
   "metadata": {},
   "outputs": [],
   "source": [
    "%%sql\n",
    "\n",
    "SELECT EXTRACT(YEAR FROM occurred_at) AS year, EXTRACT(MONTH FROM occurred_at) AS month,  \n",
    "EXTRACT(DAY FROM occurred_at) AS day, SUM(total_amt_usd) AS total_usd FROM orders \n",
    "WHERE EXTRACT(MONTH FROM occurred_at)=1 AND EXTRACT(DAY FROM occurred_at)=1 GROUP BY year, month, day \n",
    "ORDER BY total_usd ASC"
   ]
  },
  {
   "cell_type": "markdown",
   "id": "15831ab2",
   "metadata": {
    "deletable": false,
    "editable": false,
    "run_control": {
     "frozen": true
    }
   },
   "source": [
    "### Task 15: Walmart's Triumph.\n",
    "This query efficiently extracts the highest monthly gloss sales for 'Walmart,' showcasing detailed insights into their performance. Its brevity is strategic, enabling rapid access to the most critical data without unnecessary complexity.\n",
    "\n",
    "In the fast-paced world of business, time efficiency is invaluable. Such succinct queries empower decision-makers to swiftly access precise information, aiding quick and informed choices without delving into unnecessary data layers. This query, with its precision and brevity, embodies the power of streamlined data analysis, helping businesses extract vital insights with minimal effort."
   ]
  },
  {
   "cell_type": "code",
   "execution_count": null,
   "id": "3f3236e1",
   "metadata": {},
   "outputs": [],
   "source": [
    "%%sql\n",
    "\n",
    "SELECT ac.name AS account_name,  EXTRACT(YEAR FROM o.occurred_at) AS year, \n",
    "EXTRACT(MONTH FROM o.occurred_at) AS month, SUM(o.gloss_amt_usd) AS gloss_total_usd \n",
    "FROM accounts ac JOIN orders o ON ac.id=o.account_id WHERE ac.name = 'Walmart' \n",
    "GROUP BY account_name, year, month ORDER BY gloss_total_usd DESC limit 1"
   ]
  }
 ],
 "metadata": {
  "kernelspec": {
   "display_name": "Python 3 (ipykernel)",
   "language": "python",
   "name": "python3"
  },
  "language_info": {
   "codemirror_mode": {
    "name": "ipython",
    "version": 3
   },
   "file_extension": ".py",
   "mimetype": "text/x-python",
   "name": "python",
   "nbconvert_exporter": "python",
   "pygments_lexer": "ipython3",
   "version": "3.11.4"
  }
 },
 "nbformat": 4,
 "nbformat_minor": 5
}
